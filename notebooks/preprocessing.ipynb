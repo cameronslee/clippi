{
 "cells": [
  {
   "cell_type": "markdown",
   "metadata": {},
   "source": [
    "# Preprocessing"
   ]
  },
  {
   "cell_type": "code",
   "execution_count": null,
   "metadata": {},
   "outputs": [],
   "source": [
    "import ast\n",
    "\n",
    "# TODO dynamic path handle\n",
    "f = open(\"./transcripts/JN3KPFbWCy8\", \"r\") \n",
    "\n",
    "data = f.readlines()\n",
    "  \n",
    "# replacing end of line('/n') with ' ' and \n",
    "# splitting the text it further when '.' is seen. \n",
    "\n",
    "f.close()\n",
    "\n",
    "res = []\n",
    "for d in data:\n",
    "    temp = ast.literal_eval(d)\n",
    "    res.append(temp)"
   ]
  },
  {
   "cell_type": "markdown",
   "metadata": {},
   "source": [
    "Dataframe conversion"
   ]
  },
  {
   "cell_type": "code",
   "execution_count": null,
   "metadata": {},
   "outputs": [],
   "source": [
    "import pandas as pd\n",
    "df = pd.DataFrame(res)\n",
    "\n",
    "def get_length(row):\n",
    "    return len(row['text'])\n",
    "\n",
    "df['text_len'] = df.apply(get_length,axis=1)\n",
    "\n",
    "df"
   ]
  },
  {
   "cell_type": "markdown",
   "metadata": {},
   "source": [
    "Merge on Condition"
   ]
  },
  {
   "cell_type": "code",
   "execution_count": null,
   "metadata": {},
   "outputs": [],
   "source": [
    "\n",
    "import pandas as pd\n",
    "df = pd.DataFrame(res)\n",
    "\n",
    "# Calculate end time\n",
    "df['end'] = df['start'] + df['duration']\n",
    "\n",
    "# Identify rows to merge based on condition\n",
    "# Marking rows that should NOT start a new group.\n",
    "# TODO finetune with different ruleset\n",
    "df['merge_with_next'] = df['duration'] <= 8\n",
    "\n",
    "# Create group identifier\n",
    "df['group'] = (df['merge_with_next'] == False).cumsum()\n",
    "\n",
    "# Merge rows within the same group\n",
    "aggregated = df.groupby('group').agg({\n",
    "    'text': ' '.join, \n",
    "    'start': 'min',  # Take the earliest start time\n",
    "    'end': 'max',  # Take the latest end time\n",
    "}).reset_index(drop=True)\n",
    "\n",
    "# Calculate new duration based on aggregated start and end times\n",
    "aggregated['duration'] = aggregated['end'] - aggregated['start']\n",
    "\n",
    "df = aggregated\n",
    "\n",
    "'''\n",
    "def get_length(row):\n",
    "    return len(row['text'])\n",
    "\n",
    "df['text_len'] = df.apply(get_length,axis=1)\n",
    "\n",
    "df3 = df[df['text_len'] > 20]  \n",
    "\n",
    "df = df3\n",
    "'''\n",
    "\n",
    "df"
   ]
  },
  {
   "cell_type": "markdown",
   "metadata": {},
   "source": [
    "Named Entity Recognition (NER)"
   ]
  },
  {
   "cell_type": "code",
   "execution_count": null,
   "metadata": {},
   "outputs": [],
   "source": [
    "\n",
    "# Editing tokenizer\n",
    "# https://spacy.io/usage/linguistic-features#native-tokenizers\n",
    "# https://spacy.io/usage/linguistic-features#special-cases\n",
    "\n",
    "# Sentance Segmentation\n",
    "# https://spacy.io/usage/linguistic-features#sbd\n",
    "\n",
    "# Training\n",
    "# https://spacy.io/usage/training\n",
    "\n",
    "# Model Constraints\n",
    "# https://github.com/explosion/spaCy/issues/3052\n",
    "\n",
    "import spacy\n",
    "\n",
    "# Run this:\n",
    "# $ python3 -m spacy download en\n",
    "nlp = spacy.load(\"en_core_web_lg\")"
   ]
  },
  {
   "cell_type": "code",
   "execution_count": null,
   "metadata": {},
   "outputs": [],
   "source": [
    "# Label\n",
    "# https://catalog.ldc.upenn.edu/docs/LDC2013T19/OntoNotes-Release-5.0.pdf\n",
    "labels_spacy = \"\"\"\n",
    "PERSON                        People, including fictional\n",
    "NORP                          Nationalities or religious or political groups\n",
    "FACILITY                      Buildings, airports, highways, bridges, etc.\n",
    "ORGANIZATION                  Companies, agencies, institutions, etc.\n",
    "GPE                           Countries, cities, states\n",
    "LOCATION                      Non-GPE locations, mountain ranges, bodies of water\n",
    "PRODUCT                       Vehicles, weapons, foods, etc. (Not services)\n",
    "EVENT                         Named hurricanes, battles, wars, sports events, etc.\n",
    "WORK OF ART                   Titles of books, songs, etc.\n",
    "LAW                           Named documents made into laws\n",
    "LANGUAGE                      Any named language\n",
    "DATE                          Absolute or relative dates or periods\n",
    "TIME                          Times smaller than a day\n",
    "PERCENT                       Percentage (including “%”)\n",
    "MONEY                         Monetary values, including unit\n",
    "QUANTITY                      Measurements, as of weight or distance\n",
    "ORDINAL                       “first”, “second”\n",
    "CARDINAL                      Numerals that do not fall under another type\n",
    "\"\"\"\n",
    "\n",
    "label_lookup_table = {\n",
    "    \"PERSON\": \"People, including fictional\",\n",
    "    \"NORP\": \"Nationalities or religious or political groups\",\n",
    "    \"FACILITY\": \"Buildings, airports, highways, bridges, etc.\",\n",
    "    \"ORGANIZATION\": \"Companies, agencies, institutions, etc.\",\n",
    "    \"GPE\": \"Countries, cities, states\",\n",
    "    \"LOCATION\": \"Non-GPE locations, mountain ranges, bodies of water\",\n",
    "    \"PRODUCT\": \"Vehicles, weapons, foods, etc. (Not services)\",\n",
    "    \"EVENT\": \"Named hurricanes, battles, wars, sports events, etc.\",\n",
    "    \"WORK OF ART\": \"Titles of books, songs, etc.\",\n",
    "    \"LAW\": \"Named documents made into laws\",\n",
    "    \"LANGUAGE\": \"Any named language\",\n",
    "    \"DATE\": \"Absolute or relative dates or periods\",\n",
    "    \"TIME\": \"Times smaller than a day\",\n",
    "    \"PERCENT\": \"Percentage (including “%”)\",\n",
    "    \"MONEY\": \"Monetary values, including unit\",\n",
    "    \"QUANTITY\": \"Measurements, as of weight or distance\",\n",
    "    \"ORDINAL\": \"“first”, “second”\",\n",
    "    \"CARDINAL\": \"Numerals that do not fall under another type\"\n",
    "}\n"
   ]
  },
  {
   "cell_type": "code",
   "execution_count": null,
   "metadata": {},
   "outputs": [],
   "source": [
    "print(\"Entities of Interest\")\n",
    "\"\"\"\n",
    "# example: fetching entity on a single row\n",
    "test = df['text'][1]\n",
    "doc = nlp(test)\n",
    "\n",
    "entities = []\n",
    "for ent in doc.ents:\n",
    "    entities.append((ent.text, ent.start_char, ent.end_char, ent.label_))\n",
    "    print(ent.text, ent.start_char, ent.end_char, ent.label_)\n",
    "\"\"\"\n",
    "\n",
    "def get_entity_values(data):\n",
    "    doc = nlp(data['text'])\n",
    "    # Extract entity details and return as a list of tuples\n",
    "    return [(ent.text, ent.start_char, ent.end_char, ent.label_) for ent in doc.ents]\n",
    "\n",
    "df['entities'] = df.apply(get_entity_values, axis=1)\n",
    "\n",
    "df['entities']"
   ]
  },
  {
   "cell_type": "markdown",
   "metadata": {},
   "source": [
    "Output"
   ]
  },
  {
   "cell_type": "code",
   "execution_count": null,
   "metadata": {},
   "outputs": [],
   "source": [
    "df.to_csv('out.csv', columns=['text', 'start', 'end', 'duration', 'entities'], index=False) "
   ]
  },
  {
   "cell_type": "markdown",
   "metadata": {},
   "source": [
    "Text Summary Model"
   ]
  },
  {
   "cell_type": "code",
   "execution_count": null,
   "metadata": {},
   "outputs": [],
   "source": [
    "from transformers import pipeline\n",
    "\n",
    "#TODO cache this!!!\n",
    "pipe = pipeline(\"summarization\", model=\"Falconsai/text_summarization\")\n",
    "# pipe = pipeline(\"summarization\", model=\"facebook/bart-large-cnn\")"
   ]
  },
  {
   "cell_type": "code",
   "execution_count": null,
   "metadata": {},
   "outputs": [],
   "source": [
    "def summarize(row):\n",
    "    # max_len -> 15\n",
    "    return pipe(row['text'], max_length=100, min_length=100, do_sample=False)\n",
    "\n",
    "df['summary'] = df.apply(summarize, axis=1)"
   ]
  }
 ],
 "metadata": {
  "kernelspec": {
   "display_name": ".venv",
   "language": "python",
   "name": "python3"
  },
  "language_info": {
   "codemirror_mode": {
    "name": "ipython",
    "version": 3
   },
   "file_extension": ".py",
   "mimetype": "text/x-python",
   "name": "python",
   "nbconvert_exporter": "python",
   "pygments_lexer": "ipython3",
   "version": "3.11.9"
  }
 },
 "nbformat": 4,
 "nbformat_minor": 2
}
